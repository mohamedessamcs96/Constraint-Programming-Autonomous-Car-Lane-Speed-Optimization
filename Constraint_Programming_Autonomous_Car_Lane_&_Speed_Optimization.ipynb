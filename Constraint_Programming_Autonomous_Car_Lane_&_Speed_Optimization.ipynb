{
  "nbformat": 4,
  "nbformat_minor": 0,
  "metadata": {
    "colab": {
      "provenance": []
    },
    "kernelspec": {
      "name": "python3",
      "display_name": "Python 3"
    },
    "language_info": {
      "name": "python"
    }
  },
  "cells": [
    {
      "cell_type": "markdown",
      "source": [
        "##**What is CP**?\n",
        "\n",
        "Constraint Programming (CP) is a powerful paradigm used to solve optimization and decision-making problems by defining a set of constraints and variables and letting a solver find a feasible or optimal solution.\n",
        "\n",
        "Unlike traditional programming, where we write step-by-step instructions, in CP, we define the problem as a set of rules (constraints), and the solver searches for a valid solution.\n",
        "\n",
        "###**Problem Statement: Autonomous Car Lane & Speed Optimization**\n",
        "\n",
        "Autonomous vehicles must navigate safely while following specific rules and constraints such as speed limits, smooth acceleration, lane constraints, and obstacle avoidance. The challenge is to optimize the car's movement while adhering to these constraints."
      ],
      "metadata": {
        "id": "fXeaCBNKk8UU"
      }
    },
    {
      "cell_type": "markdown",
      "source": [
        "###***Solution***\n",
        "This program applies **constraint programming** using **Google OR-Tools' CP-SAT solver** to define and solve the problem. The program optimizes the car's speed and lane position while ensuring smooth transitions and avoiding obstacles.\n"
      ],
      "metadata": {
        "id": "-iooaodGlyUU"
      }
    },
    {
      "cell_type": "code",
      "source": [
        "!pip install ortools"
      ],
      "metadata": {
        "colab": {
          "base_uri": "https://localhost:8080/"
        },
        "id": "9gacSLbPl_BS",
        "outputId": "99c531be-bfc5-4ce0-850f-87229a50606e"
      },
      "execution_count": 1,
      "outputs": [
        {
          "output_type": "stream",
          "name": "stdout",
          "text": [
            "Requirement already satisfied: ortools in /usr/local/lib/python3.11/dist-packages (9.11.4210)\n",
            "Requirement already satisfied: absl-py>=2.0.0 in /usr/local/lib/python3.11/dist-packages (from ortools) (2.1.0)\n",
            "Requirement already satisfied: numpy>=1.13.3 in /usr/local/lib/python3.11/dist-packages (from ortools) (1.26.4)\n",
            "Requirement already satisfied: pandas>=2.0.0 in /usr/local/lib/python3.11/dist-packages (from ortools) (2.2.2)\n",
            "Requirement already satisfied: protobuf<5.27,>=5.26.1 in /usr/local/lib/python3.11/dist-packages (from ortools) (5.26.1)\n",
            "Requirement already satisfied: immutabledict>=3.0.0 in /usr/local/lib/python3.11/dist-packages (from ortools) (4.2.1)\n",
            "Requirement already satisfied: python-dateutil>=2.8.2 in /usr/local/lib/python3.11/dist-packages (from pandas>=2.0.0->ortools) (2.8.2)\n",
            "Requirement already satisfied: pytz>=2020.1 in /usr/local/lib/python3.11/dist-packages (from pandas>=2.0.0->ortools) (2024.2)\n",
            "Requirement already satisfied: tzdata>=2022.7 in /usr/local/lib/python3.11/dist-packages (from pandas>=2.0.0->ortools) (2025.1)\n",
            "Requirement already satisfied: six>=1.5 in /usr/local/lib/python3.11/dist-packages (from python-dateutil>=2.8.2->pandas>=2.0.0->ortools) (1.17.0)\n"
          ]
        }
      ]
    },
    {
      "cell_type": "markdown",
      "source": [
        "### **Objective**  \n",
        "We need to optimize an **autonomous car’s speed and lane selection** over a period of **10 time steps** while ensuring:\n",
        "- Safe driving constraints (speed changes gradually)\n",
        "- Allowed lane change constraints (no skipping lanes)\n",
        "- Avoiding obstacles (blocked lanes)\n",
        "- Encouraging lane diversity (to avoid staying in the same lane too long)\n",
        "- Maximizing the car’s speed while following the constraints  \n"
      ],
      "metadata": {
        "id": "i0T22WYzjK_i"
      }
    },
    {
      "cell_type": "markdown",
      "source": [
        "### **Decision Variables**  \n",
        "1. **Speed at each time step**  \n",
        "   - Range: `30 km/h` (min) to `120 km/h` (max)  \n",
        "   - Variable: `speed_t[i]` for each time step `i`  \n",
        "2. **Lane at each time step**  \n",
        "   - Allowed lanes: `1`, `2`, `3`  \n",
        "   - Variable: `lane_t[i]` for each time step `i`  \n"
      ],
      "metadata": {
        "id": "QGKuHoOAj_HS"
      }
    },
    {
      "cell_type": "markdown",
      "source": [
        "\n",
        "### **Constraints**  \n",
        "1. **Smooth Acceleration/Deceleration**  \n",
        "   - The car **cannot change speed by more than 10 km/h per step**.  \n",
        "2. **Lane Change Restriction**  \n",
        "   - The car **can only move one lane at a time** (no skipping).  \n",
        "3. **Obstacle Avoidance**  \n",
        "   - At `t=5`, **lane 2 is blocked**, so the car must not be in lane 2.  \n",
        "4. **Encouraging Lane Diversity**  \n",
        "   - The car **should not stay in the same lane too long**.  \n",
        "   - It **must change lanes at least once** over the planning horizon.  \n",
        "5. **Objective Function**  \n",
        "   - **Maximize total speed** while **penalizing lane stagnation** to encourage lane changes.  \n",
        "\n",
        "---\n"
      ],
      "metadata": {
        "id": "uYC6uQhzkKCN"
      }
    },
    {
      "cell_type": "markdown",
      "source": [
        "---\n",
        "\n",
        "### **1️⃣ Defining the CP Model**\n",
        "```python\n",
        "from ortools.sat.python import cp_model\n",
        "\n",
        "def autonomous_car_constraints():\n",
        "    model = cp_model.CpModel()\n",
        "```\n",
        "- **OR-Tools Library**: We import Google's **OR-Tools** library, which includes the **Constraint Programming (CP) solver**.\n",
        "- **CpModel**: We create an instance of the **CpModel** class, which is used to define our optimization problem.\n",
        "\n",
        "---\n",
        "\n",
        "### **2️⃣ Defining Variables**\n",
        "#### **Speed Variable**\n",
        "```python\n",
        "max_speed = 120  # km/h\n",
        "min_speed = 30   # km/h\n",
        "time_steps = 10  # Planning horizon\n",
        "speed = [model.NewIntVar(min_speed, max_speed, f'speed_t{i}') for i in range(time_steps)]\n",
        "```\n",
        "- **Speed Variables**: We define an array of **speed variables** for each time step. Each variable represents the car's speed, and the speed is constrained between **30 km/h and 120 km/h**.\n",
        "\n",
        "#### **Lane Variable**\n",
        "```python\n",
        "lane_positions = [1, 2, 3]  # Available lanes\n",
        "lane = [model.NewIntVar(min(lane_positions), max(lane_positions), f'lane_t{i}') for i in range(time_steps)]\n",
        "```\n",
        "- **Lane Variables**: We define an array of **lane variables** for each time step. Each variable represents the lane the car occupies, with possible values **1, 2, or 3**.\n",
        "\n",
        "---\n",
        "\n",
        "### **3️⃣ Adding Constraints**\n",
        "#### **1️⃣ Speed Change Constraints (Smooth Acceleration)**\n",
        "```python\n",
        "for t in range(1, time_steps):\n",
        "    model.Add(speed[t] - speed[t - 1] <= 10)  # Increase speed by max 10\n",
        "    model.Add(speed[t - 1] - speed[t] <= 10)  # Decrease speed by max 10\n",
        "```\n",
        "- **Smooth Acceleration and Deceleration**: These constraints ensure that the car can **only change its speed by a maximum of 10 km/h** between two consecutive time steps, allowing for smooth acceleration and deceleration.\n",
        "\n",
        "#### **2️⃣ Lane Change Constraints (No Skipping Lanes)**\n",
        "```python\n",
        "for t in range(1, time_steps):\n",
        "    lane_diff = model.NewIntVar(0, 1, f'lane_diff_t{t}')\n",
        "    model.AddAbsEquality(lane_diff, lane[t] - lane[t - 1])\n",
        "    model.Add(lane_diff <= 1)\n",
        "```\n",
        "- **No Skipping Lanes**: This set of constraints ensures that the car **changes lanes gradually**, meaning it cannot skip from one lane to another in one time step. The car can only move by **one lane at a time**.\n",
        "\n",
        "#### **3️⃣ Obstacle Avoidance**\n",
        "```python\n",
        "model.Add(lane[5] != 2)\n",
        "```\n",
        "- **Avoid Lane 2 at t=5**: This constraint ensures that the car does not enter **lane 2 at time step 5**, perhaps because it's blocked by an obstacle.\n",
        "\n",
        "#### **4️⃣ Avoiding Lane Stagnation**\n",
        "```python\n",
        "lane_stagnation = [model.NewBoolVar(f'lanes_same_t{t}') for t in range(1, time_steps)]\n",
        "for t in range(1, time_steps):\n",
        "    model.Add(lane[t] == lane[t - 1]).OnlyEnforceIf(lane_stagnation[t - 1])\n",
        "```\n",
        "- **Penalizing Lane Stagnation**: This set of constraints introduces a Boolean variable `lanes_same_t[t]`, which will be **1 if the car remains in the same lane** at time `t`. It is used later to penalize the car for staying in the same lane too long.\n",
        "\n",
        "#### **5️⃣ Encouraging Lane Changes**\n",
        "```python\n",
        "for t in range(1, time_steps - 2):\n",
        "    model.Add(lane[t] != lane[t + 2])  # Ensure lane change within 3 steps\n",
        "```\n",
        "- **Encouraging Lane Changes**: This constraint forces the car to **change lanes at least once every 3 time steps**. This prevents the car from staying in the same lane for too long.\n",
        "\n",
        "```python\n",
        "lane_changes = [model.NewBoolVar(f'lane_change_t{t}') for t in range(1, time_steps)]\n",
        "for t in range(1, time_steps):\n",
        "    model.Add(lane[t] != lane[t - 1]).OnlyEnforceIf(lane_changes[t - 1])\n",
        "\n",
        "model.Add(sum(lane_changes) >= 1)\n",
        "```\n",
        "- **At Least One Lane Change**: This constraint ensures that the car **changes lanes at least once** during the entire planning horizon (10 time steps).\n",
        "\n",
        "---\n",
        "\n",
        "### **4️⃣ Objective Function**\n",
        "```python\n",
        "model.Maximize(\n",
        "    sum(speed) - 10 * sum(lane_stagnation[t - 1] for t in range(1, time_steps))\n",
        ")\n",
        "```\n",
        "- **Maximizing Speed**: The **objective function** aims to **maximize the total speed** over all time steps.\n",
        "- **Penalizing Lane Stagnation**: The term `-10 * sum(lane_stagnation)` **penalizes the car for staying in the same lane** too long, encouraging the car to change lanes regularly.\n",
        "\n",
        "---\n",
        "\n",
        "### **5️⃣ Solving the Problem**\n",
        "```python\n",
        "solver = cp_model.CpSolver()\n",
        "status = solver.Solve(model)\n",
        "```\n",
        "- **Solver**: The **CpSolver** is used to find the best solution that satisfies all constraints. It will either return **OPTIMAL**, **FEASIBLE**, or **INFEASIBLE** based on the results.\n",
        "\n",
        "#### **Printing the Results**\n",
        "```python\n",
        "if status == cp_model.OPTIMAL or status == cp_model.FEASIBLE:\n",
        "    for t in range(time_steps):\n",
        "        print(f'Time {t}: Speed = {solver.Value(speed[t])} km/h, Lane = {solver.Value(lane[t])}')\n",
        "else:\n",
        "    print(\"No feasible solution found.\")\n",
        "```\n",
        "- If a **valid solution** is found, the program prints the **speed and lane** at each time step.\n",
        "- If no feasible solution exists, it prints a message indicating that no solution was found.\n",
        "\n",
        "---\n",
        "\n"
      ],
      "metadata": {
        "id": "t4oeNA9IjHvE"
      }
    },
    {
      "cell_type": "code",
      "execution_count": 14,
      "metadata": {
        "colab": {
          "base_uri": "https://localhost:8080/"
        },
        "id": "vG1ozBTzX1Ht",
        "outputId": "2cdcb3bc-45a6-4123-830c-b09fead4188d"
      },
      "outputs": [
        {
          "output_type": "stream",
          "name": "stdout",
          "text": [
            "Time 0: Speed = 120 km/h, Lane = 1\n",
            "Time 1: Speed = 120 km/h, Lane = 2\n",
            "Time 2: Speed = 120 km/h, Lane = 1\n",
            "Time 3: Speed = 120 km/h, Lane = 1\n",
            "Time 4: Speed = 120 km/h, Lane = 2\n",
            "Time 5: Speed = 120 km/h, Lane = 3\n",
            "Time 6: Speed = 120 km/h, Lane = 3\n",
            "Time 7: Speed = 120 km/h, Lane = 2\n",
            "Time 8: Speed = 120 km/h, Lane = 1\n",
            "Time 9: Speed = 120 km/h, Lane = 1\n"
          ]
        }
      ],
      "source": [
        "from ortools.sat.python import cp_model\n",
        "\n",
        "def autonomous_car_constraints():\n",
        "    model = cp_model.CpModel()\n",
        "\n",
        "    # Variables\n",
        "    max_speed = 120  # km/h\n",
        "    min_speed = 30   # km/h\n",
        "    lane_positions = [1, 2, 3]  # Available lanes\n",
        "    time_steps = 10  # Planning horizon\n",
        "\n",
        "    speed = [model.NewIntVar(min_speed, max_speed, f'speed_t{i}') for i in range(time_steps)]\n",
        "    lane = [model.NewIntVar(min(lane_positions), max(lane_positions), f'lane_t{i}') for i in range(time_steps)]\n",
        "\n",
        "    # Constraints\n",
        "    for t in range(1, time_steps):\n",
        "        # Speed change constraints (gradual acceleration/deceleration)\n",
        "        model.Add(speed[t] - speed[t - 1] <= 30)  # Increased flexibility from 10 → 30\n",
        "        model.Add(speed[t - 1] - speed[t] <= 30)  # Allow greater variation\n",
        "\n",
        "        # Lane change constraints (only one lane change at a time)\n",
        "        lane_diff = model.NewIntVar(-1, 1, f'lane_diff_t{t}')\n",
        "        model.Add(lane_diff == lane[t] - lane[t - 1])\n",
        "\n",
        "    # **Obstacle avoidance constraint** (Ensure lane 2 is not used at `t=5`)\n",
        "    model.Add(lane[5] != 2)\n",
        "\n",
        "    # **Loosen lane change constraints**\n",
        "    lane_changes = [model.NewBoolVar(f'lane_change_t{t}') for t in range(1, time_steps)]\n",
        "    for t in range(1, time_steps):\n",
        "        model.Add(lane[t] != lane[t - 1]).OnlyEnforceIf(lane_changes[t - 1])\n",
        "\n",
        "    # **Remove unnecessary restrictions on total lane changes**\n",
        "    model.Add(sum(lane_changes) >= 1)  # At least one lane change\n",
        "    model.Add(sum(lane_changes) <= 8)  # Allow enough flexibility\n",
        "\n",
        "    # **Objective function:** Maximize speed while allowing smooth lane changes\n",
        "    model.Maximize(sum(speed) - 2 * sum(lane_changes))\n",
        "\n",
        "    # **Solve with debugging logs**\n",
        "    solver = cp_model.CpSolver()\n",
        "    solver.parameters.log_search_progress = True  # Enables solver logging\n",
        "    status = solver.Solve(model)\n",
        "\n",
        "    if status == cp_model.OPTIMAL or status == cp_model.FEASIBLE:\n",
        "        for t in range(time_steps):\n",
        "            print(f'Time {t}: Speed = {solver.Value(speed[t])} km/h, Lane = {solver.Value(lane[t])}')\n",
        "    else:\n",
        "        print(\"No feasible solution found. Adjust constraints.\")\n",
        "\n",
        "if __name__ == \"__main__\":\n",
        "    autonomous_car_constraints()"
      ]
    }
  ]
}